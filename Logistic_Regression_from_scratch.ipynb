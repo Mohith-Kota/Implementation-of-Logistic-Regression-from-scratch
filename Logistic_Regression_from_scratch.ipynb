{
 "cells": [
  {
   "cell_type": "code",
   "execution_count": 1,
   "metadata": {
    "colab": {
     "base_uri": "https://localhost:8080/",
     "height": 277
    },
    "id": "ihFAEN5Vhx_9",
    "outputId": "2e9edc25-c0a5-46ab-b9bd-a8df62076556"
   },
   "outputs": [],
   "source": [
    "#!pip install --upgrade xlrd"
   ]
  },
  {
   "cell_type": "code",
   "execution_count": 2,
   "metadata": {
    "id": "45c3a88e"
   },
   "outputs": [],
   "source": [
    "import numpy as np\n",
    "import pandas as pd\n",
    "import math\n",
    "from sklearn.model_selection import train_test_split\n",
    "from sklearn.datasets import make_classification\n",
    "from tqdm import tqdm\n",
    "import seaborn as sns\n"
   ]
  },
  {
   "cell_type": "code",
   "execution_count": 3,
   "metadata": {
    "id": "32fdaea0",
    "scrolled": true
   },
   "outputs": [
    {
     "ename": "FileNotFoundError",
     "evalue": "[Errno 2] No such file or directory: '/content/Lab_Data.xls'",
     "output_type": "error",
     "traceback": [
      "\u001b[1;31m---------------------------------------------------------------------------\u001b[0m",
      "\u001b[1;31mFileNotFoundError\u001b[0m                         Traceback (most recent call last)",
      "\u001b[1;32m<ipython-input-3-beb6bd40eff2>\u001b[0m in \u001b[0;36m<module>\u001b[1;34m\u001b[0m\n\u001b[1;32m----> 1\u001b[1;33m \u001b[0mdf_train\u001b[0m \u001b[1;33m=\u001b[0m \u001b[0mpd\u001b[0m\u001b[1;33m.\u001b[0m\u001b[0mread_excel\u001b[0m\u001b[1;33m(\u001b[0m\u001b[1;34m'/content/Lab_Data.xls'\u001b[0m\u001b[1;33m,\u001b[0m \u001b[0msheet_name\u001b[0m\u001b[1;33m=\u001b[0m\u001b[1;34m'2004--2005 Data'\u001b[0m\u001b[1;33m)\u001b[0m\u001b[1;33m\u001b[0m\u001b[1;33m\u001b[0m\u001b[0m\n\u001b[0m\u001b[0;32m      2\u001b[0m \u001b[0mdf_train\u001b[0m\u001b[1;33m=\u001b[0m \u001b[0mnp\u001b[0m\u001b[1;33m.\u001b[0m\u001b[0marray\u001b[0m\u001b[1;33m(\u001b[0m\u001b[0mdf_train\u001b[0m\u001b[1;33m,\u001b[0m \u001b[0mnp\u001b[0m\u001b[1;33m.\u001b[0m\u001b[0mfloat64\u001b[0m\u001b[1;33m)\u001b[0m\u001b[1;33m\u001b[0m\u001b[1;33m\u001b[0m\u001b[0m\n\u001b[0;32m      3\u001b[0m \u001b[0mX_train\u001b[0m\u001b[1;33m,\u001b[0m \u001b[0my_train\u001b[0m \u001b[1;33m=\u001b[0m \u001b[0mdf_train\u001b[0m\u001b[1;33m[\u001b[0m\u001b[1;33m:\u001b[0m\u001b[1;33m,\u001b[0m\u001b[1;36m1\u001b[0m\u001b[1;33m:\u001b[0m\u001b[1;33m]\u001b[0m\u001b[1;33m,\u001b[0m \u001b[0mdf_train\u001b[0m\u001b[1;33m[\u001b[0m\u001b[1;33m:\u001b[0m\u001b[1;33m,\u001b[0m\u001b[1;36m0\u001b[0m\u001b[1;33m]\u001b[0m\u001b[1;33m\u001b[0m\u001b[1;33m\u001b[0m\u001b[0m\n",
      "\u001b[1;32mP:\\Anaconda\\lib\\site-packages\\pandas\\util\\_decorators.py\u001b[0m in \u001b[0;36mwrapper\u001b[1;34m(*args, **kwargs)\u001b[0m\n\u001b[0;32m    186\u001b[0m                 \u001b[1;32melse\u001b[0m\u001b[1;33m:\u001b[0m\u001b[1;33m\u001b[0m\u001b[1;33m\u001b[0m\u001b[0m\n\u001b[0;32m    187\u001b[0m                     \u001b[0mkwargs\u001b[0m\u001b[1;33m[\u001b[0m\u001b[0mnew_arg_name\u001b[0m\u001b[1;33m]\u001b[0m \u001b[1;33m=\u001b[0m \u001b[0mnew_arg_value\u001b[0m\u001b[1;33m\u001b[0m\u001b[1;33m\u001b[0m\u001b[0m\n\u001b[1;32m--> 188\u001b[1;33m             \u001b[1;32mreturn\u001b[0m \u001b[0mfunc\u001b[0m\u001b[1;33m(\u001b[0m\u001b[1;33m*\u001b[0m\u001b[0margs\u001b[0m\u001b[1;33m,\u001b[0m \u001b[1;33m**\u001b[0m\u001b[0mkwargs\u001b[0m\u001b[1;33m)\u001b[0m\u001b[1;33m\u001b[0m\u001b[1;33m\u001b[0m\u001b[0m\n\u001b[0m\u001b[0;32m    189\u001b[0m         \u001b[1;32mreturn\u001b[0m \u001b[0mwrapper\u001b[0m\u001b[1;33m\u001b[0m\u001b[1;33m\u001b[0m\u001b[0m\n\u001b[0;32m    190\u001b[0m     \u001b[1;32mreturn\u001b[0m \u001b[0m_deprecate_kwarg\u001b[0m\u001b[1;33m\u001b[0m\u001b[1;33m\u001b[0m\u001b[0m\n",
      "\u001b[1;32mP:\\Anaconda\\lib\\site-packages\\pandas\\util\\_decorators.py\u001b[0m in \u001b[0;36mwrapper\u001b[1;34m(*args, **kwargs)\u001b[0m\n\u001b[0;32m    186\u001b[0m                 \u001b[1;32melse\u001b[0m\u001b[1;33m:\u001b[0m\u001b[1;33m\u001b[0m\u001b[1;33m\u001b[0m\u001b[0m\n\u001b[0;32m    187\u001b[0m                     \u001b[0mkwargs\u001b[0m\u001b[1;33m[\u001b[0m\u001b[0mnew_arg_name\u001b[0m\u001b[1;33m]\u001b[0m \u001b[1;33m=\u001b[0m \u001b[0mnew_arg_value\u001b[0m\u001b[1;33m\u001b[0m\u001b[1;33m\u001b[0m\u001b[0m\n\u001b[1;32m--> 188\u001b[1;33m             \u001b[1;32mreturn\u001b[0m \u001b[0mfunc\u001b[0m\u001b[1;33m(\u001b[0m\u001b[1;33m*\u001b[0m\u001b[0margs\u001b[0m\u001b[1;33m,\u001b[0m \u001b[1;33m**\u001b[0m\u001b[0mkwargs\u001b[0m\u001b[1;33m)\u001b[0m\u001b[1;33m\u001b[0m\u001b[1;33m\u001b[0m\u001b[0m\n\u001b[0m\u001b[0;32m    189\u001b[0m         \u001b[1;32mreturn\u001b[0m \u001b[0mwrapper\u001b[0m\u001b[1;33m\u001b[0m\u001b[1;33m\u001b[0m\u001b[0m\n\u001b[0;32m    190\u001b[0m     \u001b[1;32mreturn\u001b[0m \u001b[0m_deprecate_kwarg\u001b[0m\u001b[1;33m\u001b[0m\u001b[1;33m\u001b[0m\u001b[0m\n",
      "\u001b[1;32mP:\\Anaconda\\lib\\site-packages\\pandas\\io\\excel.py\u001b[0m in \u001b[0;36mread_excel\u001b[1;34m(io, sheet_name, header, names, index_col, parse_cols, usecols, squeeze, dtype, engine, converters, true_values, false_values, skiprows, nrows, na_values, keep_default_na, verbose, parse_dates, date_parser, thousands, comment, skip_footer, skipfooter, convert_float, mangle_dupe_cols, **kwds)\u001b[0m\n\u001b[0;32m    348\u001b[0m \u001b[1;33m\u001b[0m\u001b[0m\n\u001b[0;32m    349\u001b[0m     \u001b[1;32mif\u001b[0m \u001b[1;32mnot\u001b[0m \u001b[0misinstance\u001b[0m\u001b[1;33m(\u001b[0m\u001b[0mio\u001b[0m\u001b[1;33m,\u001b[0m \u001b[0mExcelFile\u001b[0m\u001b[1;33m)\u001b[0m\u001b[1;33m:\u001b[0m\u001b[1;33m\u001b[0m\u001b[1;33m\u001b[0m\u001b[0m\n\u001b[1;32m--> 350\u001b[1;33m         \u001b[0mio\u001b[0m \u001b[1;33m=\u001b[0m \u001b[0mExcelFile\u001b[0m\u001b[1;33m(\u001b[0m\u001b[0mio\u001b[0m\u001b[1;33m,\u001b[0m \u001b[0mengine\u001b[0m\u001b[1;33m=\u001b[0m\u001b[0mengine\u001b[0m\u001b[1;33m)\u001b[0m\u001b[1;33m\u001b[0m\u001b[1;33m\u001b[0m\u001b[0m\n\u001b[0m\u001b[0;32m    351\u001b[0m \u001b[1;33m\u001b[0m\u001b[0m\n\u001b[0;32m    352\u001b[0m     return io.parse(\n",
      "\u001b[1;32mP:\\Anaconda\\lib\\site-packages\\pandas\\io\\excel.py\u001b[0m in \u001b[0;36m__init__\u001b[1;34m(self, io, engine)\u001b[0m\n\u001b[0;32m    651\u001b[0m         \u001b[0mself\u001b[0m\u001b[1;33m.\u001b[0m\u001b[0m_io\u001b[0m \u001b[1;33m=\u001b[0m \u001b[0m_stringify_path\u001b[0m\u001b[1;33m(\u001b[0m\u001b[0mio\u001b[0m\u001b[1;33m)\u001b[0m\u001b[1;33m\u001b[0m\u001b[1;33m\u001b[0m\u001b[0m\n\u001b[0;32m    652\u001b[0m \u001b[1;33m\u001b[0m\u001b[0m\n\u001b[1;32m--> 653\u001b[1;33m         \u001b[0mself\u001b[0m\u001b[1;33m.\u001b[0m\u001b[0m_reader\u001b[0m \u001b[1;33m=\u001b[0m \u001b[0mself\u001b[0m\u001b[1;33m.\u001b[0m\u001b[0m_engines\u001b[0m\u001b[1;33m[\u001b[0m\u001b[0mengine\u001b[0m\u001b[1;33m]\u001b[0m\u001b[1;33m(\u001b[0m\u001b[0mself\u001b[0m\u001b[1;33m.\u001b[0m\u001b[0m_io\u001b[0m\u001b[1;33m)\u001b[0m\u001b[1;33m\u001b[0m\u001b[1;33m\u001b[0m\u001b[0m\n\u001b[0m\u001b[0;32m    654\u001b[0m \u001b[1;33m\u001b[0m\u001b[0m\n\u001b[0;32m    655\u001b[0m     \u001b[1;32mdef\u001b[0m \u001b[0m__fspath__\u001b[0m\u001b[1;33m(\u001b[0m\u001b[0mself\u001b[0m\u001b[1;33m)\u001b[0m\u001b[1;33m:\u001b[0m\u001b[1;33m\u001b[0m\u001b[1;33m\u001b[0m\u001b[0m\n",
      "\u001b[1;32mP:\\Anaconda\\lib\\site-packages\\pandas\\io\\excel.py\u001b[0m in \u001b[0;36m__init__\u001b[1;34m(self, filepath_or_buffer)\u001b[0m\n\u001b[0;32m    422\u001b[0m             \u001b[0mself\u001b[0m\u001b[1;33m.\u001b[0m\u001b[0mbook\u001b[0m \u001b[1;33m=\u001b[0m \u001b[0mxlrd\u001b[0m\u001b[1;33m.\u001b[0m\u001b[0mopen_workbook\u001b[0m\u001b[1;33m(\u001b[0m\u001b[0mfile_contents\u001b[0m\u001b[1;33m=\u001b[0m\u001b[0mdata\u001b[0m\u001b[1;33m)\u001b[0m\u001b[1;33m\u001b[0m\u001b[1;33m\u001b[0m\u001b[0m\n\u001b[0;32m    423\u001b[0m         \u001b[1;32melif\u001b[0m \u001b[0misinstance\u001b[0m\u001b[1;33m(\u001b[0m\u001b[0mfilepath_or_buffer\u001b[0m\u001b[1;33m,\u001b[0m \u001b[0mcompat\u001b[0m\u001b[1;33m.\u001b[0m\u001b[0mstring_types\u001b[0m\u001b[1;33m)\u001b[0m\u001b[1;33m:\u001b[0m\u001b[1;33m\u001b[0m\u001b[1;33m\u001b[0m\u001b[0m\n\u001b[1;32m--> 424\u001b[1;33m             \u001b[0mself\u001b[0m\u001b[1;33m.\u001b[0m\u001b[0mbook\u001b[0m \u001b[1;33m=\u001b[0m \u001b[0mxlrd\u001b[0m\u001b[1;33m.\u001b[0m\u001b[0mopen_workbook\u001b[0m\u001b[1;33m(\u001b[0m\u001b[0mfilepath_or_buffer\u001b[0m\u001b[1;33m)\u001b[0m\u001b[1;33m\u001b[0m\u001b[1;33m\u001b[0m\u001b[0m\n\u001b[0m\u001b[0;32m    425\u001b[0m         \u001b[1;32melse\u001b[0m\u001b[1;33m:\u001b[0m\u001b[1;33m\u001b[0m\u001b[1;33m\u001b[0m\u001b[0m\n\u001b[0;32m    426\u001b[0m             raise ValueError('Must explicitly set engine if not passing in'\n",
      "\u001b[1;32mP:\\Anaconda\\lib\\site-packages\\xlrd\\__init__.py\u001b[0m in \u001b[0;36mopen_workbook\u001b[1;34m(filename, logfile, verbosity, use_mmap, file_contents, encoding_override, formatting_info, on_demand, ragged_rows)\u001b[0m\n\u001b[0;32m    109\u001b[0m     \u001b[1;32melse\u001b[0m\u001b[1;33m:\u001b[0m\u001b[1;33m\u001b[0m\u001b[1;33m\u001b[0m\u001b[0m\n\u001b[0;32m    110\u001b[0m         \u001b[0mfilename\u001b[0m \u001b[1;33m=\u001b[0m \u001b[0mos\u001b[0m\u001b[1;33m.\u001b[0m\u001b[0mpath\u001b[0m\u001b[1;33m.\u001b[0m\u001b[0mexpanduser\u001b[0m\u001b[1;33m(\u001b[0m\u001b[0mfilename\u001b[0m\u001b[1;33m)\u001b[0m\u001b[1;33m\u001b[0m\u001b[1;33m\u001b[0m\u001b[0m\n\u001b[1;32m--> 111\u001b[1;33m         \u001b[1;32mwith\u001b[0m \u001b[0mopen\u001b[0m\u001b[1;33m(\u001b[0m\u001b[0mfilename\u001b[0m\u001b[1;33m,\u001b[0m \u001b[1;34m\"rb\"\u001b[0m\u001b[1;33m)\u001b[0m \u001b[1;32mas\u001b[0m \u001b[0mf\u001b[0m\u001b[1;33m:\u001b[0m\u001b[1;33m\u001b[0m\u001b[1;33m\u001b[0m\u001b[0m\n\u001b[0m\u001b[0;32m    112\u001b[0m             \u001b[0mpeek\u001b[0m \u001b[1;33m=\u001b[0m \u001b[0mf\u001b[0m\u001b[1;33m.\u001b[0m\u001b[0mread\u001b[0m\u001b[1;33m(\u001b[0m\u001b[0mpeeksz\u001b[0m\u001b[1;33m)\u001b[0m\u001b[1;33m\u001b[0m\u001b[1;33m\u001b[0m\u001b[0m\n\u001b[0;32m    113\u001b[0m     \u001b[1;32mif\u001b[0m \u001b[0mpeek\u001b[0m \u001b[1;33m==\u001b[0m \u001b[1;34mb\"PK\\x03\\x04\"\u001b[0m\u001b[1;33m:\u001b[0m \u001b[1;31m# a ZIP file\u001b[0m\u001b[1;33m\u001b[0m\u001b[1;33m\u001b[0m\u001b[0m\n",
      "\u001b[1;31mFileNotFoundError\u001b[0m: [Errno 2] No such file or directory: '/content/Lab_Data.xls'"
     ]
    }
   ],
   "source": [
    "df_train = pd.read_excel('/content/Lab_Data.xls', sheet_name='2004--2005 Data')\n",
    "df_train= np.array(df_train, np.float64)\n",
    "X_train, y_train = df_train[:,1:], df_train[:,0]"
   ]
  },
  {
   "cell_type": "code",
   "execution_count": null,
   "metadata": {
    "id": "06a8babf"
   },
   "outputs": [],
   "source": [
    "class LogisticRegression:\n",
    "    def __init__(self, learningRate, tolerance, maxIteration=5000, index=[], yes_remove_index=False):\n",
    "        self.learningRate=learningRate\n",
    "        self.tolerance=tolerance\n",
    "        self.maxIteration=maxIteration\n",
    "        self.index=index\n",
    "        self.yes_remove_index=yes_remove_index\n",
    "        \n",
    "    def Read_values(self):\n",
    "        df_train = pd.read_excel('Lab_Data.xls', sheet_name='2004--2005 Data')\n",
    "        df_test = pd.read_excel('Lab_Data.xls', sheet_name='2004--2007 Data')\n",
    "        df_train,df_test  = np.array(df_train, dtype=np.float64), np.array(df_test, dtype=np.float64)\n",
    "        \n",
    "        X_train, y_train = df_train[:,1:], df_train[:,0]\n",
    "        X_test, y_test = df_test[:,1:], df_test[:,0]\n",
    "        return X_train, y_train, X_test, y_test\n",
    "    \n",
    "    def remove_index(self, X_train, y_train, index):\n",
    "        print(index)\n",
    "        X_train=np.delete(X_train, index, 0)\n",
    "        y_train=np.delete(y_train, index, 0)\n",
    "        return X_train, y_train\n",
    "    \n",
    "    def addX0(self,X):\n",
    "        return np.column_stack([np.ones([X.shape[0],1]),X])\n",
    "    \n",
    "    def sigmoid(self,z):\n",
    "        sig=1/(1+np.exp(-z))\n",
    "        return sig\n",
    "    \n",
    "    def costFunction(self,X,y):\n",
    "        sig=self.sigmoid(X.dot(self.w))\n",
    "        pred=y*np.log(sig)+(1-y)*np.log(1-sig)\n",
    "        cost=pred.sum()\n",
    "        return cost\n",
    "    \n",
    "    def gradient(self, X,y):\n",
    "        sig=self.sigmoid(X.dot(self.w))\n",
    "        grad=(sig-y).dot(X)\n",
    "        return grad\n",
    "    \n",
    "    def gradientDescent(self,X,y):\n",
    "        cost=[]\n",
    "        last=float('inf')\n",
    "        for i in tqdm(range(self.maxIteration)):\n",
    "            self.w = self.w - self.learningRate*(self.gradient(X,y))\n",
    "            current_cost= self.costFunction(X,y)\n",
    "            diff=last-current_cost\n",
    "            #last=cur_cost\n",
    "            cost.append(abs(current_cost))\n",
    "            \n",
    "            if diff<self.tolerance:\n",
    "                print(\"the model stopped. Converged at {}\".format(i))\n",
    "                break\n",
    "        self.plotCost(cost)\n",
    "        return\n",
    "    \n",
    "    def plotCost(self, costSequence):\n",
    "        axis=list(range(0, len(costSequence),1))\n",
    "        fig, ax = plt.subplots()\n",
    "        ax.plot(axis, costSequence)\n",
    "        ax.set_xlabel('Iterations')\n",
    "        ax.set_ylabel('Cost Function')\n",
    "        ax.set_title('Cost Function')\n",
    "        ax.grid()\n",
    "        plt.show()\n",
    "        \n",
    "    def plot(self):\n",
    "        plt.figure(figsize=(12, 8))\n",
    "        ax = plt.axes(projection='3d')\n",
    "\n",
    "        # Data for three-dimensional scattered points\n",
    "        ax.scatter3D(self.X_rtrain[:, 0], self.X_rtrain[:, 1], \n",
    "                     self.sigmoid(self.X_rtrain.dot(self.w)), \n",
    "                     c = self.y_rtrain[:], cmap='viridis', s=100);\n",
    "\n",
    "        ax.set_xlim3d(55, 80)\n",
    "        ax.set_ylim3d(80, 240)\n",
    "        plt.xlabel('$x_1$ feature', fontsize=15)\n",
    "        plt.ylabel('$x_2$ feature', fontsize=15, )\n",
    "        ax.set_zlabel('$P(Y = 1|x_1, x_2)$', fontsize=15, rotation = 0)\n",
    "\n",
    "    def scatterPlt(self):\n",
    "            # evenly sampled points\n",
    "            x_min, x_max = 55, 80\n",
    "            y_min, y_max = 80, 240\n",
    "\n",
    "            xx, yy = np.meshgrid(np.linspace(x_min, x_max, 250),\n",
    "                                 np.linspace(y_min, y_max, 250))\n",
    "            grid = np.c_[xx.ravel(), yy.ravel()]\n",
    "            probs = grid.dot(self.w).reshape(xx.shape)\n",
    "\n",
    "            f, ax = plt.subplots(figsize=(14,12))\n",
    "\n",
    "\n",
    "            ax.contour(xx, yy, probs, levels=[0.5], cmap=\"Greys\", vmin=0, vmax=.6)\n",
    "\n",
    "\n",
    "            ax.scatter(self.X_rtrain[:, 0], self.X_rtrain[:, 1], \n",
    "                       c=self.y_rtrain[:], s=50,\n",
    "                       cmap=\"RdBu\", vmin=-.2, vmax=1.2,\n",
    "                       edgecolor=\"white\", linewidth=1)\n",
    "\n",
    "            plt.xlabel('x1 feature')\n",
    "            plt.ylabel('x2 feature')\n",
    "\n",
    "\n",
    "    def plot3D(self):\n",
    "            # evenly sampled points\n",
    "            x_min, x_max = 55, 80\n",
    "            y_min, y_max = 80, 240\n",
    "\n",
    "            xx, yy = np.meshgrid(np.linspace(x_min, x_max, 250),\n",
    "                                 np.linspace(y_min, y_max, 250))\n",
    "\n",
    "            grid = np.c_[xx.ravel(), yy.ravel()]\n",
    "            probs = grid.dot(self.w).reshape(xx.shape)\n",
    "            fig = plt.figure(figsize=(14,12))\n",
    "            ax = plt.axes(projection='3d')\n",
    "            ax.contour3D(xx, yy, probs, 50, cmap='binary')\n",
    "\n",
    "            ax.scatter3D(self.X_rtrain[:, 0], self.X_rtrain[:, 1], \n",
    "                       c=self.y_rtrain[:], s=50,\n",
    "                       cmap=\"RdBu\", vmin=-.2, vmax=1.2,\n",
    "                       edgecolor=\"white\", linewidth=1)\n",
    "\n",
    "            ax.set_xlabel('x1')\n",
    "            ax.set_ylabel('x2')\n",
    "            ax.set_zlabel('probs')\n",
    "            ax.set_title('3D contour')\n",
    "            plt.show()\n",
    "    \n",
    "    def predict(self, X):\n",
    "        sig = self.sigmoid(X.dot(self.w))\n",
    "        return np.around(sig)\n",
    "    \n",
    "    def evaluate(self, y, y_hat):\n",
    "        y = (y==1)\n",
    "        y_hat = (y_hat==1)\n",
    "        accuracy= (y==y_hat).sum()/y.size\n",
    "        precision = (y&y_hat).sum()/y_hat.sum()\n",
    "        recall=(y&y_hat).sum()/y.sum()\n",
    "        return accuracy, precision, recall\n",
    "    \n",
    "    def run_model(self):\n",
    "        self.X_train, self.y_train, self.X_test, self.y_test = self.Read_values()\n",
    "        \n",
    "        if self.yes_remove_index== True:\n",
    "            self.X_rtrain, self.y_rtrainr= self.remove_index(self.X_train, self.y_train, self.index)\n",
    "        elif self.yes_remove_index==False:\n",
    "            self.X_rtrain, self.y_rtrain = self.X_train, self.y_train\n",
    "        \n",
    "        self.w=np.ones(self.X_rtrain.shape[1], dtype=np.float64)*0\n",
    "        self.gradientDescent(self.X_rtrain, self.y_rtrain)\n",
    "        print('The parameters are {}'.format(self.w))\n",
    "        \n",
    "        y_hat_train=self.predict(self.X_rtrain)\n",
    "        accuracy, precision, recall = self.evaluate(self.y_rtrain, y_hat_train)\n",
    "       \n",
    "        print(\"Accuracy\", accuracy)\n",
    "        print('Precision', precision)\n",
    "        print(\"Recall\", recall)\n",
    "        \n",
    "       # y_hat_test=self.predict(self.X_test)\n",
    "       # accuracy_test, precision_test, recall_test = self.evaluate(self.y_test, y_hat_test)\n",
    "        \n",
    "        #print(\"\\nEvaluation for test data: \\n\")\n",
    "        #print(\"Accuracy\", accuracy_test)\n",
    "        #print('Precision', precision_test)\n",
    "        #print(\"Recall\", recall_test)\n",
    "       \n",
    "        self.scatterPlt()\n",
    "        self.plot()\n",
    "        self.plot3D()\n",
    "        \n",
    "        return\n",
    "        \n",
    "        \n",
    "    "
   ]
  },
  {
   "cell_type": "code",
   "execution_count": null,
   "metadata": {
    "id": "28dc1480"
   },
   "outputs": [],
   "source": [
    "lr=LogisticRegression(learningRate=0.000001,tolerance=0.0000005)"
   ]
  },
  {
   "cell_type": "code",
   "execution_count": null,
   "metadata": {
    "colab": {
     "base_uri": "https://localhost:8080/",
     "height": 1000
    },
    "id": "828df650",
    "outputId": "c83208a7-a2e9-41d9-d2fb-4f0b1c2056cd"
   },
   "outputs": [],
   "source": [
    "import matplotlib.pyplot as plt\n",
    "%matplotlib inline\n",
    "from mpl_toolkits.mplot3d import Axes3D\n",
    "lr.run_model()"
   ]
  },
  {
   "cell_type": "code",
   "execution_count": 4,
   "metadata": {
    "colab": {
     "base_uri": "https://localhost:8080/",
     "height": 1000
    },
    "id": "a1543100",
    "outputId": "022bec74-e50a-4732-8dd5-6e9967896aae"
   },
   "outputs": [
    {
     "ename": "NameError",
     "evalue": "name 'LogisticRegression' is not defined",
     "output_type": "error",
     "traceback": [
      "\u001b[1;31m---------------------------------------------------------------------------\u001b[0m",
      "\u001b[1;31mNameError\u001b[0m                                 Traceback (most recent call last)",
      "\u001b[1;32m<ipython-input-4-15cbe19d4ccf>\u001b[0m in \u001b[0;36m<module>\u001b[1;34m\u001b[0m\n\u001b[1;32m----> 1\u001b[1;33m \u001b[0mlr2\u001b[0m\u001b[1;33m=\u001b[0m\u001b[0mLogisticRegression\u001b[0m\u001b[1;33m(\u001b[0m\u001b[0mlearningRate\u001b[0m\u001b[1;33m=\u001b[0m\u001b[1;36m0.000001\u001b[0m\u001b[1;33m,\u001b[0m\u001b[0mtolerance\u001b[0m\u001b[1;33m=\u001b[0m\u001b[1;36m0.0000005\u001b[0m\u001b[1;33m,\u001b[0m\u001b[0mindex\u001b[0m\u001b[1;33m=\u001b[0m\u001b[1;33m[\u001b[0m\u001b[1;36m0\u001b[0m\u001b[1;33m,\u001b[0m\u001b[1;36m38\u001b[0m\u001b[1;33m]\u001b[0m\u001b[1;33m,\u001b[0m\u001b[0myes_remove_index\u001b[0m\u001b[1;33m=\u001b[0m\u001b[1;32mTrue\u001b[0m\u001b[1;33m)\u001b[0m\u001b[1;33m\u001b[0m\u001b[1;33m\u001b[0m\u001b[0m\n\u001b[0m\u001b[0;32m      2\u001b[0m \u001b[0mlr2\u001b[0m\u001b[1;33m.\u001b[0m\u001b[0mrun_model\u001b[0m\u001b[1;33m(\u001b[0m\u001b[1;33m)\u001b[0m\u001b[1;33m\u001b[0m\u001b[1;33m\u001b[0m\u001b[0m\n",
      "\u001b[1;31mNameError\u001b[0m: name 'LogisticRegression' is not defined"
     ]
    }
   ],
   "source": [
    "lr2=LogisticRegression(learningRate=0.000001,tolerance=0.0000005,index=[0,38],yes_remove_index=True)\n",
    "lr2.run_model()"
   ]
  },
  {
   "cell_type": "markdown",
   "metadata": {
    "id": "a62aee98"
   },
   "source": [
    "Observations:\n",
    "We can see that accuracy, precision, recall all are increased by removing 2 datapoints that means the degree of misclassification is decreased. \n",
    "As Recall is 1, we can say that number of False Negatives are zero after removing 2 data points(Recall = TP/TP+FN)\n",
    "Also, our model classified all of the data points correctly after removing 2 data points. "
   ]
  },
  {
   "cell_type": "code",
   "execution_count": null,
   "metadata": {},
   "outputs": [],
   "source": []
  }
 ],
 "metadata": {
  "colab": {
   "collapsed_sections": [],
   "name": "Group_20_Lab_LogisticRegression.ipynb",
   "provenance": []
  },
  "kernelspec": {
   "display_name": "Python 3",
   "language": "python",
   "name": "python3"
  },
  "language_info": {
   "codemirror_mode": {
    "name": "ipython",
    "version": 3
   },
   "file_extension": ".py",
   "mimetype": "text/x-python",
   "name": "python",
   "nbconvert_exporter": "python",
   "pygments_lexer": "ipython3",
   "version": "3.7.3"
  }
 },
 "nbformat": 4,
 "nbformat_minor": 5
}
